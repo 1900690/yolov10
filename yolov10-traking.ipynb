{
  "nbformat": 4,
  "nbformat_minor": 0,
  "metadata": {
    "colab": {
      "provenance": [],
      "include_colab_link": true
    },
    "kernelspec": {
      "name": "python3",
      "display_name": "Python 3"
    },
    "language_info": {
      "name": "python"
    }
  },
  "cells": [
    {
      "cell_type": "markdown",
      "metadata": {
        "id": "view-in-github",
        "colab_type": "text"
      },
      "source": [
        "<a href=\"https://colab.research.google.com/github/1900690/yolov10/blob/main/yolov10-traking.ipynb\" target=\"_parent\"><img src=\"https://colab.research.google.com/assets/colab-badge.svg\" alt=\"Open In Colab\"/></a>"
      ]
    },
    {
      "cell_type": "code",
      "execution_count": null,
      "metadata": {
        "id": "M2BzWigyPEqF"
      },
      "outputs": [],
      "source": [
        "!nvidia-smi"
      ]
    },
    {
      "cell_type": "code",
      "source": [
        "!pip install -q supervision\n",
        "!pip install -q git+https://github.com/THU-MIG/yolov10.git\n",
        "!pip install deep-sort-realtime"
      ],
      "metadata": {
        "id": "ktKLtd9WPJKD"
      },
      "execution_count": null,
      "outputs": []
    },
    {
      "cell_type": "code",
      "source": [
        "!mkdir -p weights\n",
        "!wget -P weights -q https://github.com/jameslahm/yolov10/releases/download/v1.0/yolov10n.pt\n",
        "!wget -P weights -q https://github.com/jameslahm/yolov10/releases/download/v1.0/yolov10s.pt\n",
        "!wget -P weights -q https://github.com/jameslahm/yolov10/releases/download/v1.0/yolov10m.pt\n",
        "!wget -P weights -q https://github.com/jameslahm/yolov10/releases/download/v1.0/yolov10b.pt\n",
        "!wget -P weights -q https://github.com/jameslahm/yolov10/releases/download/v1.0/yolov10x.pt\n",
        "!wget -P weights -q https://github.com/jameslahm/yolov10/releases/download/v1.0/yolov10l.pt\n",
        "!ls -lh weights"
      ],
      "metadata": {
        "id": "NUXJ0VOSPL10"
      },
      "execution_count": null,
      "outputs": []
    },
    {
      "cell_type": "code",
      "source": [
        "from IPython.display import HTML\n",
        "from base64 import b64encode\n",
        "def play_video(filename):\n",
        "  html = ''\n",
        "  video = open(filename,'rb').read()\n",
        "  src = 'data:video/mp4;base64,' + b64encode(video).decode()\n",
        "  html += fr'<video width=900 controls autoplay loop><source src=\"%s\" type=\"video/mp4\"></video>' % src\n",
        "  return HTML(html)"
      ],
      "metadata": {
        "id": "RL7BeAupPNaY"
      },
      "execution_count": null,
      "outputs": []
    },
    {
      "cell_type": "code",
      "source": [
        "import cv2\n",
        "import torch\n",
        "import datetime\n",
        "import numpy as np\n",
        "from absl import app, flags\n",
        "from absl.flags import FLAGS\n",
        "from ultralytics import YOLOv10\n",
        "from deep_sort_realtime.deepsort_tracker import DeepSort"
      ],
      "metadata": {
        "id": "hQDMRaCjPPNE"
      },
      "execution_count": null,
      "outputs": []
    },
    {
      "cell_type": "code",
      "source": [
        "model_file = \"/content/weights/yolov10x.pt\"\n",
        "video_file = \"/content/drive/MyDrive/Colab Notebooks/test.mp4\"\n",
        "output_file = \"/content/output.mp4\"\n",
        "conf = 0.5\n",
        "class_id = 0\n",
        "blur_id = None\n",
        "\n",
        "# Initialize the video capture and the video writer objects\n",
        "video_cap = cv2.VideoCapture(video_file)\n",
        "frame_width = int(video_cap.get(cv2.CAP_PROP_FRAME_WIDTH))\n",
        "frame_height = int(video_cap.get(cv2.CAP_PROP_FRAME_HEIGHT))\n",
        "fps = int(video_cap.get(cv2.CAP_PROP_FPS))\n",
        "\n",
        "# Initialize the video writer object\n",
        "fourcc = cv2.VideoWriter_fourcc(*'MP4V')\n",
        "writer = cv2.VideoWriter(output_file, fourcc, fps, (frame_width, frame_height))\n",
        "\n",
        "# Initialize the DeepSort tracker\n",
        "tracker = DeepSort(max_age=20, n_init=3)\n",
        "\n",
        "# Check if GPU is available, otherwise use CPU\n",
        "device = torch.device(\"cuda:0\") if torch.cuda.is_available() else torch.device(\"cpu\")\n",
        "print(f'Using device is {device}')\n",
        "\n",
        "# Load the YOLO model\n",
        "model = YOLOv10(model_file)\n",
        "# model = models.get(FLAGS.model, pretrained_weights=\"coco\").to(device)\n",
        "\n",
        "# Load the COCO class labels the YOLO model was trained on\n",
        "classes_path = \"/content/coco.names\"\n",
        "with open(classes_path, \"r\") as f:\n",
        "    class_names = f.read().strip().split(\"\\n\")\n",
        "\n",
        "# Create a list of random colors to represent each class\n",
        "np.random.seed(42)  # to get the same colors\n",
        "colors = np.random.randint(0, 255, size=(len(class_names), 3))  # (80, 3)\n",
        "\n",
        "while True:\n",
        "    # Start time to compute the FPS\n",
        "    start = datetime.datetime.now()\n",
        "\n",
        "    # Read a frame from the video\n",
        "    ret, frame = video_cap.read()\n",
        "\n",
        "    # If there is no frame, we have reached the end of the video\n",
        "    if not ret:\n",
        "        print(\"End of the video file...\")\n",
        "        break\n",
        "\n",
        "    # Perform object detection using the YOLO model on the current frame\n",
        "    results = model(frame, verbose=False)[0]\n",
        "    detect = []\n",
        "    for det in results.boxes:\n",
        "        confidence = det.conf\n",
        "        label = det.cls\n",
        "        bbox = det.xyxy[0]\n",
        "        x1, y1, x2, y2 = map(int,bbox)\n",
        "        class_id = int(label)\n",
        "\n",
        "        # Filter out weak detections by confidence threshold and class_id\n",
        "        if class_id is None:\n",
        "            if confidence < conf:\n",
        "                continue\n",
        "        else:\n",
        "            if class_id != class_id or confidence < conf:\n",
        "                continue\n",
        "\n",
        "        detect.append([[x1, y1, x2 - x1, y2 - y1], confidence, class_id])\n",
        "\n",
        "    tracks = tracker.update_tracks(detect, frame=frame)\n",
        "\n",
        "    for track in tracks:\n",
        "        if not track.is_confirmed():\n",
        "            continue\n",
        "        track_id = track.track_id\n",
        "        ltrb = track.to_ltrb()\n",
        "        class_id = track.get_det_class()\n",
        "        x1, y1, x2, y2 = map(int, ltrb)\n",
        "        color = colors[class_id]\n",
        "        B, G, R = map(int, color)\n",
        "        text = f\"{track_id} - {class_names[class_id]}\"\n",
        "\n",
        "        cv2.rectangle(frame, (x1, y1), (x2, y2), (B, G, R), 2)\n",
        "        cv2.rectangle(frame, (x1 - 1, y1 - 20), (x1 + len(text) * 12, y1), (B, G, R), -1)\n",
        "        cv2.putText(frame, text, (x1 + 5, y1 - 8), cv2.FONT_HERSHEY_SIMPLEX, 0.5, (255, 255, 255), 2)\n",
        "\n",
        "        # Apply Gaussian Blur\n",
        "        if blur_id is not None and class_id == blur_id:\n",
        "            if 0 <= x1 < x2 <= frame.shape[1] and 0 <= y1 < y2 <= frame.shape[0]:\n",
        "                frame[y1:y2, x1:x2] = cv2.GaussianBlur(frame[y1:y2, x1:x2], (99, 99), 3)\n",
        "\n",
        "    # cv2.imshow('YOLOv9 Object tracking', frame)\n",
        "\n",
        "    if cv2.waitKey(1) & 0xFF == ord('q'):\n",
        "        break\n",
        "\n",
        "    # End time to compute the FPS\n",
        "    end = datetime.datetime.now()\n",
        "\n",
        "    # Show the time it took to process 1 frame\n",
        "    print(f\"Time to process 1 frame: {(end - start).total_seconds():.2f} seconds\")\n",
        "\n",
        "    # Calculate the frames per second and draw it on the frame\n",
        "    fps = f\"FPS: {1 / (end - start).total_seconds():.2f}\"\n",
        "\n",
        "    cv2.putText(frame, fps, (50, 50), cv2.FONT_HERSHEY_SIMPLEX, 2, (0, 0, 255), 8)\n",
        "    writer.write(frame)\n",
        "\n",
        "# Release video capture and writer\n",
        "video_cap.release()\n",
        "writer.release()"
      ],
      "metadata": {
        "id": "k8k_4kQSPdAz"
      },
      "execution_count": null,
      "outputs": []
    },
    {
      "cell_type": "code",
      "source": [
        "!ffmpeg -hide_banner -loglevel error -i /content/output.mp4 -vcodec libx264 /content/output_test.mp4 -y\n",
        "play_video(\"/content/output_test.mp4\")"
      ],
      "metadata": {
        "id": "5iWGIqtDPmM4"
      },
      "execution_count": null,
      "outputs": []
    },
    {
      "cell_type": "markdown",
      "source": [
        "# Using Bytetrack"
      ],
      "metadata": {
        "id": "dXuCrTeRPrBl"
      }
    },
    {
      "cell_type": "code",
      "source": [
        "!yolo tracker=\"bytetrack.yaml\" mode=track model='/content/weights/yolov10s.pt' conf=0.25 source=\"/content/drive/MyDrive/Colab Notebooks/test.mp4\" save=True show=True verbose=False save_crop"
      ],
      "metadata": {
        "id": "lSrbnTJSPqSe"
      },
      "execution_count": null,
      "outputs": []
    }
  ]
}